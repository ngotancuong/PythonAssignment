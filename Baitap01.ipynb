{
  "nbformat": 4,
  "nbformat_minor": 0,
  "metadata": {
    "colab": {
      "provenance": [],
      "authorship_tag": "ABX9TyMvo1dqYRHSBRzJyRsXR3oL",
      "include_colab_link": true
    },
    "kernelspec": {
      "name": "python3",
      "display_name": "Python 3"
    },
    "language_info": {
      "name": "python"
    }
  },
  "cells": [
    {
      "cell_type": "markdown",
      "metadata": {
        "id": "view-in-github",
        "colab_type": "text"
      },
      "source": [
        "<a href=\"https://colab.research.google.com/github/ngotancuong/PythonAssignment/blob/main/Baitap01.ipynb\" target=\"_parent\"><img src=\"https://colab.research.google.com/assets/colab-badge.svg\" alt=\"Open In Colab\"/></a>"
      ]
    },
    {
      "cell_type": "markdown",
      "source": [
        "# BÀI HƯỚNG DẪN TÌM HIỂU VỀ EDA, PHÂN TÍCH DỮ LIỆU CHUỖI THỜI GIAN VÀ CÁC DỰ BÁO DỰA VÀO MÔ HÌNH SARIMAX"
      ],
      "metadata": {
        "id": "AH-dQ9uHN_fM"
      }
    },
    {
      "cell_type": "markdown",
      "source": [
        "Cuộc thi này do Walmart tài trợ có tên là Dự báo M5. Sử dụng dữ liệu bao gồm khoảng 30.000 mặt hàng khác nhau trong gần 1900 ngày. Mục tiêu là dự báo doanh số bán hàng trong 28 ngày tới. Phân bố ở ba Tiểu bang Hoa Kỳ (California, Texas và Wisconsin)."
      ],
      "metadata": {
        "id": "5UZ_5M9cPE3V"
      }
    },
    {
      "cell_type": "markdown",
      "source": [
        "### Đầu tiên phải load data mẫu từ Kaggle về project này để chạy"
      ],
      "metadata": {
        "id": "OksR-5YUP9ro"
      }
    },
    {
      "cell_type": "code",
      "execution_count": 1,
      "metadata": {
        "id": "hUDc7-ssKJhG"
      },
      "outputs": [],
      "source": [
        "# Cài đặt package Kaggle hỗ trợ kết nối Colab với Kaggle\n",
        "!pip install -q kaggle"
      ]
    },
    {
      "cell_type": "code",
      "source": [
        "# Download file Kaggle API Token cho phép kết nối vào tài nguyên Kaggle\n",
        "!wget 'https://raw.githubusercontent.com/ngotancuong/PythonAssignment/main/kaggle.json'\n",
        "\n",
        "# Cách khác nếu đã download file kaggle.json về máy tính rồi thì dùng lệnh sau để upload thủ công lên Colab\n",
        "# from google.colab import files\n",
        "# files.upload()"
      ],
      "metadata": {
        "colab": {
          "base_uri": "https://localhost:8080/"
        },
        "id": "KFW7QvBcRvMm",
        "outputId": "ef1db637-a215-4e4a-8bf0-725d5ad90af2"
      },
      "execution_count": 2,
      "outputs": [
        {
          "output_type": "stream",
          "name": "stdout",
          "text": [
            "--2022-10-19 18:40:03--  https://raw.githubusercontent.com/ngotancuong/PythonAssignment/main/kaggle.json\n",
            "Resolving raw.githubusercontent.com (raw.githubusercontent.com)... 185.199.108.133, 185.199.109.133, 185.199.110.133, ...\n",
            "Connecting to raw.githubusercontent.com (raw.githubusercontent.com)|185.199.108.133|:443... connected.\n",
            "HTTP request sent, awaiting response... 200 OK\n",
            "Length: 63 [text/plain]\n",
            "Saving to: ‘kaggle.json’\n",
            "\n",
            "\rkaggle.json           0%[                    ]       0  --.-KB/s               \rkaggle.json         100%[===================>]      63  --.-KB/s    in 0s      \n",
            "\n",
            "2022-10-19 18:40:03 (2.98 MB/s) - ‘kaggle.json’ saved [63/63]\n",
            "\n"
          ]
        }
      ]
    },
    {
      "cell_type": "code",
      "source": [
        "# Bắt buộc file kaggle.json phải được đặt tại đường dẫn ~/.kaggle/kaggle.json để dùng API\n",
        "# Tạo thư mục\n",
        "!mkdir ~/.kaggle"
      ],
      "metadata": {
        "id": "2MQiT9F7eBgT"
      },
      "execution_count": 3,
      "outputs": []
    },
    {
      "cell_type": "code",
      "source": [
        "# Copy file kaggle.json vào thư mục quy định\n",
        "!cp kaggle.json ~/.kaggle/"
      ],
      "metadata": {
        "id": "XKere1rTfd0z"
      },
      "execution_count": 4,
      "outputs": []
    },
    {
      "cell_type": "code",
      "source": [
        "# Phân quyền trên file là Owner được read & write\n",
        "!chmod 600 ~/.kaggle/kaggle.json"
      ],
      "metadata": {
        "id": "ORmpPrZYf8Ie"
      },
      "execution_count": 5,
      "outputs": []
    },
    {
      "cell_type": "code",
      "source": [
        "# List 1 số datasets thông dụng trên Kaggle\n",
        "!kaggle datasets list"
      ],
      "metadata": {
        "colab": {
          "base_uri": "https://localhost:8080/"
        },
        "id": "Y0UQqbndgWTk",
        "outputId": "dfa25bc8-30f7-4764-b7c6-0f600b27b2a9"
      },
      "execution_count": 6,
      "outputs": [
        {
          "output_type": "stream",
          "name": "stdout",
          "text": [
            "ref                                                             title                                                size  lastUpdated          downloadCount  voteCount  usabilityRating  \n",
            "--------------------------------------------------------------  --------------------------------------------------  -----  -------------------  -------------  ---------  ---------------  \n",
            "akshaydattatraykhare/diabetes-dataset                           Diabetes Dataset                                      9KB  2022-10-06 08:55:25           4092        127  1.0              \n",
            "whenamancodes/covid-19-coronavirus-pandemic-dataset             COVID -19 Coronavirus Pandemic Dataset               11KB  2022-09-30 04:05:11           3398         98  1.0              \n",
            "thedevastator/fast-food-restaurants-in-the-united-states        Fast Food Restaurants in the United States            4MB  2022-10-08 17:30:38           1171         32  1.0              \n",
            "whenamancodes/students-performance-in-exams                     Students Performance in Exams                         9KB  2022-09-14 15:14:54           6619        117  1.0              \n",
            "whenamancodes/student-performance                               Student Performance                                 104KB  2022-10-07 05:14:47           5314        127  1.0              \n",
            "anushabellam/cars-cars-2                                        Cars_India_dataset                                    4KB  2022-10-12 06:34:20            694         26  1.0              \n",
            "iamsouravbanerjee/computer-games-dataset                        Computer Games Dataset                               29KB  2022-10-11 14:36:33            482         41  1.0              \n",
            "kathir1k/youtube-influencers-data                               Youtube Channel and Influencer Analysis             196KB  2022-10-13 16:30:21            566         26  0.85294116       \n",
            "whenamancodes/flight-delay-prediction                           Flight Delay Prediction                              31MB  2022-10-07 05:26:20           1237         34  0.88235295       \n",
            "narayan63/netflix-popular-movies-dataset                        Netflix popular movies dataset                        1MB  2022-09-24 08:23:22           3363         56  0.9411765        \n",
            "evangower/premier-league-matches-19922022                       Premier League Matches 1992-2022                     78KB  2022-10-03 02:18:33           1257         45  1.0              \n",
            "whenamancodes/alcohol-effects-on-study                          Alcohol Effects On Study                             18KB  2022-09-15 03:21:04           4282         86  1.0              \n",
            "kathuman/housing                                                Housing                                             400KB  2022-09-29 10:21:23            780         26  1.0              \n",
            "whenamancodes/the-global-hunger-index                           The Global Hunger Index                              27KB  2022-09-13 18:18:01           1289         41  1.0              \n",
            "eliasturk/world-happiness-based-on-cpi-20152020                 Happiness and Corruption 2015-2020                   29KB  2022-10-11 22:35:03            748         31  1.0              \n",
            "jfreyberg/spotify-artist-feature-collaboration-network          Spotify Artist Feature Collaboration Network         15MB  2022-10-10 14:11:34            410         25  0.9117647        \n",
            "pantanjali/unemployment-dataset                                 Unemployment dataset                                 17KB  2022-09-08 08:26:10           6421        141  1.0              \n",
            "adnananam/spotify-artist-stats                                  Spotify Artist Stats                                 28KB  2022-09-22 03:22:44           1490         37  1.0              \n",
            "thedevastator/fuel-economy-data-how-efficient-are-today-s-cars  Fuel Economy Data: How Efficient Are Today's Cars?    1MB  2022-10-09 16:47:41            852         29  0.9411765        \n",
            "thedevastator/a-complete-history-of-nobel-prize-winners         Nobel Prize Winners                                   1MB  2022-10-08 00:09:57            785         29  1.0              \n"
          ]
        }
      ]
    },
    {
      "cell_type": "markdown",
      "source": [
        "Nếu không thấy dataset mình cần thì tìm trực tiếp trên Kaggle. Vào mục Data như hình, copy code thực thi\n",
        "![m5-kaggle.png](data:image/png;base64,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)"
      ],
      "metadata": {
        "id": "0dOWkbPrhL07"
      }
    },
    {
      "cell_type": "code",
      "source": [
        "# Tiến hành download dataset về Colab\n",
        "!kaggle competitions download -c m5-forecasting-accuracy"
      ],
      "metadata": {
        "colab": {
          "base_uri": "https://localhost:8080/"
        },
        "id": "xaXs51cpgeZg",
        "outputId": "54a3f305-013f-4fa9-afe9-db15b602373b"
      },
      "execution_count": 7,
      "outputs": [
        {
          "output_type": "stream",
          "name": "stdout",
          "text": [
            "Downloading m5-forecasting-accuracy.zip to /content\n",
            " 74% 34.0M/45.8M [00:00<00:00, 186MB/s]\n",
            "100% 45.8M/45.8M [00:00<00:00, 171MB/s]\n"
          ]
        }
      ]
    },
    {
      "cell_type": "code",
      "source": [
        "#Tạo folder chứa dataset, thông số -p -v để tạo folder cha và con\n",
        "!mkdir -p -v /kaggle/input/m5-forecasting-accuracy"
      ],
      "metadata": {
        "colab": {
          "base_uri": "https://localhost:8080/"
        },
        "id": "PzB1djfFjX64",
        "outputId": "be511804-0d62-4a4a-f591-fae6f9f84ec0"
      },
      "execution_count": 22,
      "outputs": [
        {
          "output_type": "stream",
          "name": "stdout",
          "text": [
            "mkdir: created directory '/kaggle'\n",
            "mkdir: created directory '/kaggle/input'\n",
            "mkdir: created directory '/kaggle/input/m5-forecasting-accuracy'\n"
          ]
        }
      ]
    },
    {
      "cell_type": "code",
      "source": [
        "# Giải nén file datatset vào folder\n",
        "!unzip  m5-forecasting-accuracy.zip -d \"/kaggle/input/m5-forecasting-accuracy\"\n",
        "# Hoàn thành xong bước chuẩn bị dữ liệu"
      ],
      "metadata": {
        "colab": {
          "base_uri": "https://localhost:8080/"
        },
        "id": "hokNap9GiRy0",
        "outputId": "ba5ec0b5-e3a5-4237-fb5d-cc51181ccdf1"
      },
      "execution_count": 23,
      "outputs": [
        {
          "output_type": "stream",
          "name": "stdout",
          "text": [
            "Archive:  m5-forecasting-accuracy.zip\n",
            "  inflating: /kaggle/input/m5-forecasting-accuracy/calendar.csv  \n",
            "  inflating: /kaggle/input/m5-forecasting-accuracy/sales_train_evaluation.csv  \n",
            "  inflating: /kaggle/input/m5-forecasting-accuracy/sales_train_validation.csv  \n",
            "  inflating: /kaggle/input/m5-forecasting-accuracy/sample_submission.csv  \n",
            "  inflating: /kaggle/input/m5-forecasting-accuracy/sell_prices.csv  \n"
          ]
        }
      ]
    },
    {
      "cell_type": "markdown",
      "source": [
        "### Import các thư viện cần thiết"
      ],
      "metadata": {
        "id": "VlTy4ESmn8Rf"
      }
    },
    {
      "cell_type": "code",
      "source": [
        "# This Python 3 environment comes with many helpful analytics libraries installed\n",
        "# It is defined by the kaggle/python docker image: https://github.com/kaggle/docker-python\n",
        "# For example, here's several helpful packages to load in \n",
        "\n",
        "import numpy as np # linear algebra\n",
        "import pandas as pd # data processing, CSV file I/O (e.g. pd.read_csv)\n",
        "import matplotlib.pyplot as plt\n",
        "\n",
        "import time\n",
        "import math\n",
        "import datetime\n",
        "\n",
        "\n",
        "# Import widgets\n",
        "from ipywidgets import widgets, interactive, interact\n",
        "import ipywidgets as widgets\n",
        "from IPython.display import display\n",
        "\n",
        "from math import log, floor\n",
        "from sklearn.neighbors import KDTree\n",
        "\n",
        "import seaborn as sns\n",
        "sns.set_style('whitegrid')\n",
        "\n",
        "import plotly.express as px\n",
        "import plotly.graph_objects as go\n",
        "import plotly.figure_factory as ff\n",
        "from plotly.subplots import make_subplots\n",
        "\n",
        "import pywt\n",
        "from statsmodels.robust import mad\n",
        "\n",
        "import scipy\n",
        "import statsmodels\n",
        "from scipy import signal\n",
        "\n",
        "from statsmodels.tsa.arima_model import ARIMA\n",
        "from statsmodels.tsa.statespace.sarimax import SARIMAX\n",
        "from statsmodels.tsa.api import ExponentialSmoothing, SimpleExpSmoothing, Holt\n",
        "from statsmodels.tsa.stattools import adfuller\n",
        "\n",
        "import itertools\n",
        "from itertools import cycle\n",
        "plt.style.use('seaborn')\n",
        "color_cycle = cycle(plt.rcParams['axes.prop_cycle'].by_key()['color'])\n",
        "\n",
        "# Input data files are available in the \"../input/\" directory.\n",
        "# For example, running this (by clicking run or pressing Shift+Enter) will list all files under the input directory\n",
        "\n",
        "import os\n",
        "for dirname, _, filenames in os.walk('/kaggle/input'):\n",
        "    for filename in filenames:\n",
        "        print(os.path.join(dirname, filename))\n",
        "\n",
        "# Any results you write to the current directory are saved as output.\n",
        "# Kiểm tra đường dẫn các file Dataset, đảm bảo truy cập thành công"
      ],
      "metadata": {
        "colab": {
          "base_uri": "https://localhost:8080/"
        },
        "id": "Le8P4XOIoESw",
        "outputId": "9dacb9b5-6360-4d76-8bb5-d24514bd4a9f"
      },
      "execution_count": 24,
      "outputs": [
        {
          "output_type": "stream",
          "name": "stdout",
          "text": [
            "/kaggle/input/m5-forecasting-accuracy/sales_train_evaluation.csv\n",
            "/kaggle/input/m5-forecasting-accuracy/sales_train_validation.csv\n",
            "/kaggle/input/m5-forecasting-accuracy/calendar.csv\n",
            "/kaggle/input/m5-forecasting-accuracy/sell_prices.csv\n",
            "/kaggle/input/m5-forecasting-accuracy/sample_submission.csv\n"
          ]
        }
      ]
    },
    {
      "cell_type": "markdown",
      "source": [
        "#### Mô tả các Dataset:\n",
        "\n",
        "Các file dataset đã import vào có những nội dung như sau\n",
        "\n",
        "* `calendar_df.csv` - Chứa thông tin về ngày sản phẩm được bán và cũng chứa thông tin về các ngày lễ và các dịp đặc biệt.\n",
        "* `train_sales_df.csv` - Chứa dữ liệu lịch sử bán hàng hàng ngày tại từng cửa hàng trong khoảng 1900 ngày [d_1 - d_1913] \n",
        "* `submission_file.csv` - Những file submit đúng định dạng, bao gồm product ids, column ids cho việc dự báo doanh thu bán hàng 28 ngày kế tiếp. \n",
        "* `sell_prices_df.csv` - Bao gồm thông tin về giá sản phẩm được bán tại từng cửa hàng mỗi ngày.\n",
        "* `sales_train_evaluation.csv` - Bao gồm doanh số [d_1 - d_1941] (dùng cho việc khen thưởng, tuyên dương nhân viên)"
      ],
      "metadata": {
        "id": "YqHxCUazpCyz"
      }
    },
    {
      "cell_type": "markdown",
      "source": [
        "### Đọc các Datasets vào bộ nhớ chính:"
      ],
      "metadata": {
        "id": "fCCE2CkTs2cK"
      }
    },
    {
      "cell_type": "code",
      "source": [
        "sell_prices_df = pd.read_csv('/kaggle/input/m5-forecasting-accuracy/sell_prices.csv')\n",
        "train_sales_df = pd.read_csv('/kaggle/input/m5-forecasting-accuracy/sales_train_validation.csv')\n",
        "calendar_df = pd.read_csv('/kaggle/input/m5-forecasting-accuracy/calendar.csv')\n",
        "submission_file = pd.read_csv('/kaggle/input/m5-forecasting-accuracy/sample_submission.csv')"
      ],
      "metadata": {
        "id": "LgC6VuMBtDU1"
      },
      "execution_count": 25,
      "outputs": []
    },
    {
      "cell_type": "markdown",
      "source": [
        "### Xem thử các Dataset có chứa gì"
      ],
      "metadata": {
        "id": "3vXjEWkptXFd"
      }
    },
    {
      "cell_type": "code",
      "source": [
        "sell_prices_df.info()"
      ],
      "metadata": {
        "id": "3Qz1mWmGtdb9",
        "outputId": "01e7670f-17d6-480a-c4e6-aaf5353c92ac",
        "colab": {
          "base_uri": "https://localhost:8080/"
        }
      },
      "execution_count": 26,
      "outputs": [
        {
          "output_type": "stream",
          "name": "stdout",
          "text": [
            "<class 'pandas.core.frame.DataFrame'>\n",
            "RangeIndex: 6841121 entries, 0 to 6841120\n",
            "Data columns (total 4 columns):\n",
            " #   Column      Dtype  \n",
            "---  ------      -----  \n",
            " 0   store_id    object \n",
            " 1   item_id     object \n",
            " 2   wm_yr_wk    int64  \n",
            " 3   sell_price  float64\n",
            "dtypes: float64(1), int64(1), object(2)\n",
            "memory usage: 208.8+ MB\n"
          ]
        }
      ]
    },
    {
      "cell_type": "code",
      "source": [
        "train_sales_df.info()"
      ],
      "metadata": {
        "id": "ePEFvixhtkQe",
        "outputId": "36b8f72f-8e33-4094-f921-eb0f555b8fbc",
        "colab": {
          "base_uri": "https://localhost:8080/"
        }
      },
      "execution_count": 27,
      "outputs": [
        {
          "output_type": "stream",
          "name": "stdout",
          "text": [
            "<class 'pandas.core.frame.DataFrame'>\n",
            "RangeIndex: 30490 entries, 0 to 30489\n",
            "Columns: 1919 entries, id to d_1913\n",
            "dtypes: int64(1913), object(6)\n",
            "memory usage: 446.4+ MB\n"
          ]
        }
      ]
    },
    {
      "cell_type": "code",
      "source": [
        "calendar_df.info()"
      ],
      "metadata": {
        "id": "I64EIdZztpFQ",
        "outputId": "78d54c74-9874-4785-b3e7-66d7a666d0e6",
        "colab": {
          "base_uri": "https://localhost:8080/"
        }
      },
      "execution_count": 28,
      "outputs": [
        {
          "output_type": "stream",
          "name": "stdout",
          "text": [
            "<class 'pandas.core.frame.DataFrame'>\n",
            "RangeIndex: 1969 entries, 0 to 1968\n",
            "Data columns (total 14 columns):\n",
            " #   Column        Non-Null Count  Dtype \n",
            "---  ------        --------------  ----- \n",
            " 0   date          1969 non-null   object\n",
            " 1   wm_yr_wk      1969 non-null   int64 \n",
            " 2   weekday       1969 non-null   object\n",
            " 3   wday          1969 non-null   int64 \n",
            " 4   month         1969 non-null   int64 \n",
            " 5   year          1969 non-null   int64 \n",
            " 6   d             1969 non-null   object\n",
            " 7   event_name_1  162 non-null    object\n",
            " 8   event_type_1  162 non-null    object\n",
            " 9   event_name_2  5 non-null      object\n",
            " 10  event_type_2  5 non-null      object\n",
            " 11  snap_CA       1969 non-null   int64 \n",
            " 12  snap_TX       1969 non-null   int64 \n",
            " 13  snap_WI       1969 non-null   int64 \n",
            "dtypes: int64(7), object(7)\n",
            "memory usage: 215.5+ KB\n"
          ]
        }
      ]
    },
    {
      "cell_type": "markdown",
      "source": [
        "Chúng ta có thể thấy `sell_prices_df` chứa đến 6.841.121 giao dịch ở cấp độ cửa hàng. `train_sales_df` chứa 30.490 sản phẩm khác nhau. Và `calendar_df' có thể dùng để phân tích theo chuỗi thời gian các sản phẩm đã bán."
      ],
      "metadata": {
        "id": "-zwdY7oQu528"
      }
    },
    {
      "cell_type": "markdown",
      "source": [
        "### EDA (Exploratory Data Analysis) - Khám phá việc phân tích dữ liệu"
      ],
      "metadata": {
        "id": "bo1abQaiwYSW"
      }
    },
    {
      "cell_type": "markdown",
      "source": [
        "#### Các câu hỏi về phân phối sản phẩm và hành vi theo thời gian"
      ],
      "metadata": {
        "id": "v98fAJcy2jTy"
      }
    },
    {
      "cell_type": "code",
      "source": [
        "# Lấy ra 3 dòng đầu tiên của Data Frame để xem nó chứa dữ liệu gì để khai thác\n",
        "train_sales_df.head(3)"
      ],
      "metadata": {
        "id": "u6zuXxF1xZSb",
        "outputId": "5bdeba9e-2c37-4999-bb5e-c0873152529c",
        "colab": {
          "base_uri": "https://localhost:8080/",
          "height": 237
        }
      },
      "execution_count": 29,
      "outputs": [
        {
          "output_type": "execute_result",
          "data": {
            "text/plain": [
              "                              id        item_id    dept_id   cat_id store_id  \\\n",
              "0  HOBBIES_1_001_CA_1_validation  HOBBIES_1_001  HOBBIES_1  HOBBIES     CA_1   \n",
              "1  HOBBIES_1_002_CA_1_validation  HOBBIES_1_002  HOBBIES_1  HOBBIES     CA_1   \n",
              "2  HOBBIES_1_003_CA_1_validation  HOBBIES_1_003  HOBBIES_1  HOBBIES     CA_1   \n",
              "\n",
              "  state_id  d_1  d_2  d_3  d_4  ...  d_1904  d_1905  d_1906  d_1907  d_1908  \\\n",
              "0       CA    0    0    0    0  ...       1       3       0       1       1   \n",
              "1       CA    0    0    0    0  ...       0       0       0       0       0   \n",
              "2       CA    0    0    0    0  ...       2       1       2       1       1   \n",
              "\n",
              "   d_1909  d_1910  d_1911  d_1912  d_1913  \n",
              "0       1       3       0       1       1  \n",
              "1       1       0       0       0       0  \n",
              "2       1       0       1       1       1  \n",
              "\n",
              "[3 rows x 1919 columns]"
            ],
            "text/html": [
              "\n",
              "  <div id=\"df-9841c8f2-7f3c-4f7f-9f8c-ddea8e8aa218\">\n",
              "    <div class=\"colab-df-container\">\n",
              "      <div>\n",
              "<style scoped>\n",
              "    .dataframe tbody tr th:only-of-type {\n",
              "        vertical-align: middle;\n",
              "    }\n",
              "\n",
              "    .dataframe tbody tr th {\n",
              "        vertical-align: top;\n",
              "    }\n",
              "\n",
              "    .dataframe thead th {\n",
              "        text-align: right;\n",
              "    }\n",
              "</style>\n",
              "<table border=\"1\" class=\"dataframe\">\n",
              "  <thead>\n",
              "    <tr style=\"text-align: right;\">\n",
              "      <th></th>\n",
              "      <th>id</th>\n",
              "      <th>item_id</th>\n",
              "      <th>dept_id</th>\n",
              "      <th>cat_id</th>\n",
              "      <th>store_id</th>\n",
              "      <th>state_id</th>\n",
              "      <th>d_1</th>\n",
              "      <th>d_2</th>\n",
              "      <th>d_3</th>\n",
              "      <th>d_4</th>\n",
              "      <th>...</th>\n",
              "      <th>d_1904</th>\n",
              "      <th>d_1905</th>\n",
              "      <th>d_1906</th>\n",
              "      <th>d_1907</th>\n",
              "      <th>d_1908</th>\n",
              "      <th>d_1909</th>\n",
              "      <th>d_1910</th>\n",
              "      <th>d_1911</th>\n",
              "      <th>d_1912</th>\n",
              "      <th>d_1913</th>\n",
              "    </tr>\n",
              "  </thead>\n",
              "  <tbody>\n",
              "    <tr>\n",
              "      <th>0</th>\n",
              "      <td>HOBBIES_1_001_CA_1_validation</td>\n",
              "      <td>HOBBIES_1_001</td>\n",
              "      <td>HOBBIES_1</td>\n",
              "      <td>HOBBIES</td>\n",
              "      <td>CA_1</td>\n",
              "      <td>CA</td>\n",
              "      <td>0</td>\n",
              "      <td>0</td>\n",
              "      <td>0</td>\n",
              "      <td>0</td>\n",
              "      <td>...</td>\n",
              "      <td>1</td>\n",
              "      <td>3</td>\n",
              "      <td>0</td>\n",
              "      <td>1</td>\n",
              "      <td>1</td>\n",
              "      <td>1</td>\n",
              "      <td>3</td>\n",
              "      <td>0</td>\n",
              "      <td>1</td>\n",
              "      <td>1</td>\n",
              "    </tr>\n",
              "    <tr>\n",
              "      <th>1</th>\n",
              "      <td>HOBBIES_1_002_CA_1_validation</td>\n",
              "      <td>HOBBIES_1_002</td>\n",
              "      <td>HOBBIES_1</td>\n",
              "      <td>HOBBIES</td>\n",
              "      <td>CA_1</td>\n",
              "      <td>CA</td>\n",
              "      <td>0</td>\n",
              "      <td>0</td>\n",
              "      <td>0</td>\n",
              "      <td>0</td>\n",
              "      <td>...</td>\n",
              "      <td>0</td>\n",
              "      <td>0</td>\n",
              "      <td>0</td>\n",
              "      <td>0</td>\n",
              "      <td>0</td>\n",
              "      <td>1</td>\n",
              "      <td>0</td>\n",
              "      <td>0</td>\n",
              "      <td>0</td>\n",
              "      <td>0</td>\n",
              "    </tr>\n",
              "    <tr>\n",
              "      <th>2</th>\n",
              "      <td>HOBBIES_1_003_CA_1_validation</td>\n",
              "      <td>HOBBIES_1_003</td>\n",
              "      <td>HOBBIES_1</td>\n",
              "      <td>HOBBIES</td>\n",
              "      <td>CA_1</td>\n",
              "      <td>CA</td>\n",
              "      <td>0</td>\n",
              "      <td>0</td>\n",
              "      <td>0</td>\n",
              "      <td>0</td>\n",
              "      <td>...</td>\n",
              "      <td>2</td>\n",
              "      <td>1</td>\n",
              "      <td>2</td>\n",
              "      <td>1</td>\n",
              "      <td>1</td>\n",
              "      <td>1</td>\n",
              "      <td>0</td>\n",
              "      <td>1</td>\n",
              "      <td>1</td>\n",
              "      <td>1</td>\n",
              "    </tr>\n",
              "  </tbody>\n",
              "</table>\n",
              "<p>3 rows × 1919 columns</p>\n",
              "</div>\n",
              "      <button class=\"colab-df-convert\" onclick=\"convertToInteractive('df-9841c8f2-7f3c-4f7f-9f8c-ddea8e8aa218')\"\n",
              "              title=\"Convert this dataframe to an interactive table.\"\n",
              "              style=\"display:none;\">\n",
              "        \n",
              "  <svg xmlns=\"http://www.w3.org/2000/svg\" height=\"24px\"viewBox=\"0 0 24 24\"\n",
              "       width=\"24px\">\n",
              "    <path d=\"M0 0h24v24H0V0z\" fill=\"none\"/>\n",
              "    <path d=\"M18.56 5.44l.94 2.06.94-2.06 2.06-.94-2.06-.94-.94-2.06-.94 2.06-2.06.94zm-11 1L8.5 8.5l.94-2.06 2.06-.94-2.06-.94L8.5 2.5l-.94 2.06-2.06.94zm10 10l.94 2.06.94-2.06 2.06-.94-2.06-.94-.94-2.06-.94 2.06-2.06.94z\"/><path d=\"M17.41 7.96l-1.37-1.37c-.4-.4-.92-.59-1.43-.59-.52 0-1.04.2-1.43.59L10.3 9.45l-7.72 7.72c-.78.78-.78 2.05 0 2.83L4 21.41c.39.39.9.59 1.41.59.51 0 1.02-.2 1.41-.59l7.78-7.78 2.81-2.81c.8-.78.8-2.07 0-2.86zM5.41 20L4 18.59l7.72-7.72 1.47 1.35L5.41 20z\"/>\n",
              "  </svg>\n",
              "      </button>\n",
              "      \n",
              "  <style>\n",
              "    .colab-df-container {\n",
              "      display:flex;\n",
              "      flex-wrap:wrap;\n",
              "      gap: 12px;\n",
              "    }\n",
              "\n",
              "    .colab-df-convert {\n",
              "      background-color: #E8F0FE;\n",
              "      border: none;\n",
              "      border-radius: 50%;\n",
              "      cursor: pointer;\n",
              "      display: none;\n",
              "      fill: #1967D2;\n",
              "      height: 32px;\n",
              "      padding: 0 0 0 0;\n",
              "      width: 32px;\n",
              "    }\n",
              "\n",
              "    .colab-df-convert:hover {\n",
              "      background-color: #E2EBFA;\n",
              "      box-shadow: 0px 1px 2px rgba(60, 64, 67, 0.3), 0px 1px 3px 1px rgba(60, 64, 67, 0.15);\n",
              "      fill: #174EA6;\n",
              "    }\n",
              "\n",
              "    [theme=dark] .colab-df-convert {\n",
              "      background-color: #3B4455;\n",
              "      fill: #D2E3FC;\n",
              "    }\n",
              "\n",
              "    [theme=dark] .colab-df-convert:hover {\n",
              "      background-color: #434B5C;\n",
              "      box-shadow: 0px 1px 3px 1px rgba(0, 0, 0, 0.15);\n",
              "      filter: drop-shadow(0px 1px 2px rgba(0, 0, 0, 0.3));\n",
              "      fill: #FFFFFF;\n",
              "    }\n",
              "  </style>\n",
              "\n",
              "      <script>\n",
              "        const buttonEl =\n",
              "          document.querySelector('#df-9841c8f2-7f3c-4f7f-9f8c-ddea8e8aa218 button.colab-df-convert');\n",
              "        buttonEl.style.display =\n",
              "          google.colab.kernel.accessAllowed ? 'block' : 'none';\n",
              "\n",
              "        async function convertToInteractive(key) {\n",
              "          const element = document.querySelector('#df-9841c8f2-7f3c-4f7f-9f8c-ddea8e8aa218');\n",
              "          const dataTable =\n",
              "            await google.colab.kernel.invokeFunction('convertToInteractive',\n",
              "                                                     [key], {});\n",
              "          if (!dataTable) return;\n",
              "\n",
              "          const docLinkHtml = 'Like what you see? Visit the ' +\n",
              "            '<a target=\"_blank\" href=https://colab.research.google.com/notebooks/data_table.ipynb>data table notebook</a>'\n",
              "            + ' to learn more about interactive tables.';\n",
              "          element.innerHTML = '';\n",
              "          dataTable['output_type'] = 'display_data';\n",
              "          await google.colab.output.renderOutput(dataTable, element);\n",
              "          const docLink = document.createElement('div');\n",
              "          docLink.innerHTML = docLinkHtml;\n",
              "          element.appendChild(docLink);\n",
              "        }\n",
              "      </script>\n",
              "    </div>\n",
              "  </div>\n",
              "  "
            ]
          },
          "metadata": {},
          "execution_count": 29
        }
      ]
    },
    {
      "cell_type": "code",
      "source": [
        "# Trả về danh sách các tiêu đề cột có chứa tiền tố 'd_' (tức là cột ngày)\n",
        "d_cols = [c for c in train_sales_df.columns if 'd_' in c]\n",
        "# Tổng số ngày bán hàng được tính là sum của các cột (axis=1 là đếm ngang)\n",
        "train_sales_df['total_sales_all_days'] = train_sales_df[d_cols].sum(axis = 1)\n",
        "# train_sales_df[d_cols] là dataframe chứa các cột và dòng dữ liệu ngày bán hàng\n",
        "# Hàm mean là tính giá trị trung bình\n",
        "train_sales_df['avg_sales_all_days'] = train_sales_df[d_cols].mean(axis = 1)\n",
        "# Hàm median là tính giá trị trung vị\n",
        "train_sales_df['median_sales_all_days'] = train_sales_df[d_cols].median(axis = 1)\n",
        "#train_sales_df.groupby(['id'])['total_sales_all_days'].sum().sort_values(ascending=False)"
      ],
      "metadata": {
        "id": "lC16PGKJyUZn"
      },
      "execution_count": 38,
      "outputs": []
    },
    {
      "cell_type": "markdown",
      "source": [
        "#### Biểu đồ product_id theo categoty"
      ],
      "metadata": {
        "id": "c9bbdMVn22e-"
      }
    },
    {
      "cell_type": "code",
      "source": [
        "# Data Frame gom nhóm id theo cat_id và đếm số lượng từng id trong cat_id tương ứng\n",
        "df = train_sales_df.groupby(['cat_id'])['id'].count().reset_index(name='total_entries')\n",
        "# Hàm vẽ biểu đồ hình bánh\n",
        "fig = px.pie(df, values='total_entries', names='cat_id', \n",
        "            color_discrete_sequence=px.colors.sequential.RdBu,\n",
        "            width = 750, height=450, title = 'Distribution of Product_IDs Across Categories')\n",
        "fig.show()"
      ],
      "metadata": {
        "id": "5RRZOrYf3BoX",
        "outputId": "d5a52782-d7ef-47a1-a35b-7be712a9911d",
        "colab": {
          "base_uri": "https://localhost:8080/",
          "height": 467
        }
      },
      "execution_count": 40,
      "outputs": [
        {
          "output_type": "display_data",
          "data": {
            "text/html": [
              "<html>\n",
              "<head><meta charset=\"utf-8\" /></head>\n",
              "<body>\n",
              "    <div>            <script src=\"https://cdnjs.cloudflare.com/ajax/libs/mathjax/2.7.5/MathJax.js?config=TeX-AMS-MML_SVG\"></script><script type=\"text/javascript\">if (window.MathJax) {MathJax.Hub.Config({SVG: {font: \"STIX-Web\"}});}</script>                <script type=\"text/javascript\">window.PlotlyConfig = {MathJaxConfig: 'local'};</script>\n",
              "        <script src=\"https://cdn.plot.ly/plotly-2.8.3.min.js\"></script>                <div id=\"baa8b709-aaea-449c-aacd-af5902882289\" class=\"plotly-graph-div\" style=\"height:450px; width:750px;\"></div>            <script type=\"text/javascript\">                                    window.PLOTLYENV=window.PLOTLYENV || {};                                    if (document.getElementById(\"baa8b709-aaea-449c-aacd-af5902882289\")) {                    Plotly.newPlot(                        \"baa8b709-aaea-449c-aacd-af5902882289\",                        [{\"domain\":{\"x\":[0.0,1.0],\"y\":[0.0,1.0]},\"hovertemplate\":\"cat_id=%{label}<br>total_entries=%{value}<extra></extra>\",\"labels\":[\"FOODS\",\"HOBBIES\",\"HOUSEHOLD\"],\"legendgroup\":\"\",\"name\":\"\",\"showlegend\":true,\"values\":[14370,5650,10470],\"type\":\"pie\"}],                        {\"template\":{\"data\":{\"bar\":[{\"error_x\":{\"color\":\"#2a3f5f\"},\"error_y\":{\"color\":\"#2a3f5f\"},\"marker\":{\"line\":{\"color\":\"#E5ECF6\",\"width\":0.5},\"pattern\":{\"fillmode\":\"overlay\",\"size\":10,\"solidity\":0.2}},\"type\":\"bar\"}],\"barpolar\":[{\"marker\":{\"line\":{\"color\":\"#E5ECF6\",\"width\":0.5},\"pattern\":{\"fillmode\":\"overlay\",\"size\":10,\"solidity\":0.2}},\"type\":\"barpolar\"}],\"carpet\":[{\"aaxis\":{\"endlinecolor\":\"#2a3f5f\",\"gridcolor\":\"white\",\"linecolor\":\"white\",\"minorgridcolor\":\"white\",\"startlinecolor\":\"#2a3f5f\"},\"baxis\":{\"endlinecolor\":\"#2a3f5f\",\"gridcolor\":\"white\",\"linecolor\":\"white\",\"minorgridcolor\":\"white\",\"startlinecolor\":\"#2a3f5f\"},\"type\":\"carpet\"}],\"choropleth\":[{\"colorbar\":{\"outlinewidth\":0,\"ticks\":\"\"},\"type\":\"choropleth\"}],\"contour\":[{\"colorbar\":{\"outlinewidth\":0,\"ticks\":\"\"},\"colorscale\":[[0.0,\"#0d0887\"],[0.1111111111111111,\"#46039f\"],[0.2222222222222222,\"#7201a8\"],[0.3333333333333333,\"#9c179e\"],[0.4444444444444444,\"#bd3786\"],[0.5555555555555556,\"#d8576b\"],[0.6666666666666666,\"#ed7953\"],[0.7777777777777778,\"#fb9f3a\"],[0.8888888888888888,\"#fdca26\"],[1.0,\"#f0f921\"]],\"type\":\"contour\"}],\"contourcarpet\":[{\"colorbar\":{\"outlinewidth\":0,\"ticks\":\"\"},\"type\":\"contourcarpet\"}],\"heatmap\":[{\"colorbar\":{\"outlinewidth\":0,\"ticks\":\"\"},\"colorscale\":[[0.0,\"#0d0887\"],[0.1111111111111111,\"#46039f\"],[0.2222222222222222,\"#7201a8\"],[0.3333333333333333,\"#9c179e\"],[0.4444444444444444,\"#bd3786\"],[0.5555555555555556,\"#d8576b\"],[0.6666666666666666,\"#ed7953\"],[0.7777777777777778,\"#fb9f3a\"],[0.8888888888888888,\"#fdca26\"],[1.0,\"#f0f921\"]],\"type\":\"heatmap\"}],\"heatmapgl\":[{\"colorbar\":{\"outlinewidth\":0,\"ticks\":\"\"},\"colorscale\":[[0.0,\"#0d0887\"],[0.1111111111111111,\"#46039f\"],[0.2222222222222222,\"#7201a8\"],[0.3333333333333333,\"#9c179e\"],[0.4444444444444444,\"#bd3786\"],[0.5555555555555556,\"#d8576b\"],[0.6666666666666666,\"#ed7953\"],[0.7777777777777778,\"#fb9f3a\"],[0.8888888888888888,\"#fdca26\"],[1.0,\"#f0f921\"]],\"type\":\"heatmapgl\"}],\"histogram\":[{\"marker\":{\"pattern\":{\"fillmode\":\"overlay\",\"size\":10,\"solidity\":0.2}},\"type\":\"histogram\"}],\"histogram2d\":[{\"colorbar\":{\"outlinewidth\":0,\"ticks\":\"\"},\"colorscale\":[[0.0,\"#0d0887\"],[0.1111111111111111,\"#46039f\"],[0.2222222222222222,\"#7201a8\"],[0.3333333333333333,\"#9c179e\"],[0.4444444444444444,\"#bd3786\"],[0.5555555555555556,\"#d8576b\"],[0.6666666666666666,\"#ed7953\"],[0.7777777777777778,\"#fb9f3a\"],[0.8888888888888888,\"#fdca26\"],[1.0,\"#f0f921\"]],\"type\":\"histogram2d\"}],\"histogram2dcontour\":[{\"colorbar\":{\"outlinewidth\":0,\"ticks\":\"\"},\"colorscale\":[[0.0,\"#0d0887\"],[0.1111111111111111,\"#46039f\"],[0.2222222222222222,\"#7201a8\"],[0.3333333333333333,\"#9c179e\"],[0.4444444444444444,\"#bd3786\"],[0.5555555555555556,\"#d8576b\"],[0.6666666666666666,\"#ed7953\"],[0.7777777777777778,\"#fb9f3a\"],[0.8888888888888888,\"#fdca26\"],[1.0,\"#f0f921\"]],\"type\":\"histogram2dcontour\"}],\"mesh3d\":[{\"colorbar\":{\"outlinewidth\":0,\"ticks\":\"\"},\"type\":\"mesh3d\"}],\"parcoords\":[{\"line\":{\"colorbar\":{\"outlinewidth\":0,\"ticks\":\"\"}},\"type\":\"parcoords\"}],\"pie\":[{\"automargin\":true,\"type\":\"pie\"}],\"scatter\":[{\"marker\":{\"colorbar\":{\"outlinewidth\":0,\"ticks\":\"\"}},\"type\":\"scatter\"}],\"scatter3d\":[{\"line\":{\"colorbar\":{\"outlinewidth\":0,\"ticks\":\"\"}},\"marker\":{\"colorbar\":{\"outlinewidth\":0,\"ticks\":\"\"}},\"type\":\"scatter3d\"}],\"scattercarpet\":[{\"marker\":{\"colorbar\":{\"outlinewidth\":0,\"ticks\":\"\"}},\"type\":\"scattercarpet\"}],\"scattergeo\":[{\"marker\":{\"colorbar\":{\"outlinewidth\":0,\"ticks\":\"\"}},\"type\":\"scattergeo\"}],\"scattergl\":[{\"marker\":{\"colorbar\":{\"outlinewidth\":0,\"ticks\":\"\"}},\"type\":\"scattergl\"}],\"scattermapbox\":[{\"marker\":{\"colorbar\":{\"outlinewidth\":0,\"ticks\":\"\"}},\"type\":\"scattermapbox\"}],\"scatterpolar\":[{\"marker\":{\"colorbar\":{\"outlinewidth\":0,\"ticks\":\"\"}},\"type\":\"scatterpolar\"}],\"scatterpolargl\":[{\"marker\":{\"colorbar\":{\"outlinewidth\":0,\"ticks\":\"\"}},\"type\":\"scatterpolargl\"}],\"scatterternary\":[{\"marker\":{\"colorbar\":{\"outlinewidth\":0,\"ticks\":\"\"}},\"type\":\"scatterternary\"}],\"surface\":[{\"colorbar\":{\"outlinewidth\":0,\"ticks\":\"\"},\"colorscale\":[[0.0,\"#0d0887\"],[0.1111111111111111,\"#46039f\"],[0.2222222222222222,\"#7201a8\"],[0.3333333333333333,\"#9c179e\"],[0.4444444444444444,\"#bd3786\"],[0.5555555555555556,\"#d8576b\"],[0.6666666666666666,\"#ed7953\"],[0.7777777777777778,\"#fb9f3a\"],[0.8888888888888888,\"#fdca26\"],[1.0,\"#f0f921\"]],\"type\":\"surface\"}],\"table\":[{\"cells\":{\"fill\":{\"color\":\"#EBF0F8\"},\"line\":{\"color\":\"white\"}},\"header\":{\"fill\":{\"color\":\"#C8D4E3\"},\"line\":{\"color\":\"white\"}},\"type\":\"table\"}]},\"layout\":{\"annotationdefaults\":{\"arrowcolor\":\"#2a3f5f\",\"arrowhead\":0,\"arrowwidth\":1},\"autotypenumbers\":\"strict\",\"coloraxis\":{\"colorbar\":{\"outlinewidth\":0,\"ticks\":\"\"}},\"colorscale\":{\"diverging\":[[0,\"#8e0152\"],[0.1,\"#c51b7d\"],[0.2,\"#de77ae\"],[0.3,\"#f1b6da\"],[0.4,\"#fde0ef\"],[0.5,\"#f7f7f7\"],[0.6,\"#e6f5d0\"],[0.7,\"#b8e186\"],[0.8,\"#7fbc41\"],[0.9,\"#4d9221\"],[1,\"#276419\"]],\"sequential\":[[0.0,\"#0d0887\"],[0.1111111111111111,\"#46039f\"],[0.2222222222222222,\"#7201a8\"],[0.3333333333333333,\"#9c179e\"],[0.4444444444444444,\"#bd3786\"],[0.5555555555555556,\"#d8576b\"],[0.6666666666666666,\"#ed7953\"],[0.7777777777777778,\"#fb9f3a\"],[0.8888888888888888,\"#fdca26\"],[1.0,\"#f0f921\"]],\"sequentialminus\":[[0.0,\"#0d0887\"],[0.1111111111111111,\"#46039f\"],[0.2222222222222222,\"#7201a8\"],[0.3333333333333333,\"#9c179e\"],[0.4444444444444444,\"#bd3786\"],[0.5555555555555556,\"#d8576b\"],[0.6666666666666666,\"#ed7953\"],[0.7777777777777778,\"#fb9f3a\"],[0.8888888888888888,\"#fdca26\"],[1.0,\"#f0f921\"]]},\"colorway\":[\"#636efa\",\"#EF553B\",\"#00cc96\",\"#ab63fa\",\"#FFA15A\",\"#19d3f3\",\"#FF6692\",\"#B6E880\",\"#FF97FF\",\"#FECB52\"],\"font\":{\"color\":\"#2a3f5f\"},\"geo\":{\"bgcolor\":\"white\",\"lakecolor\":\"white\",\"landcolor\":\"#E5ECF6\",\"showlakes\":true,\"showland\":true,\"subunitcolor\":\"white\"},\"hoverlabel\":{\"align\":\"left\"},\"hovermode\":\"closest\",\"mapbox\":{\"style\":\"light\"},\"paper_bgcolor\":\"white\",\"plot_bgcolor\":\"#E5ECF6\",\"polar\":{\"angularaxis\":{\"gridcolor\":\"white\",\"linecolor\":\"white\",\"ticks\":\"\"},\"bgcolor\":\"#E5ECF6\",\"radialaxis\":{\"gridcolor\":\"white\",\"linecolor\":\"white\",\"ticks\":\"\"}},\"scene\":{\"xaxis\":{\"backgroundcolor\":\"#E5ECF6\",\"gridcolor\":\"white\",\"gridwidth\":2,\"linecolor\":\"white\",\"showbackground\":true,\"ticks\":\"\",\"zerolinecolor\":\"white\"},\"yaxis\":{\"backgroundcolor\":\"#E5ECF6\",\"gridcolor\":\"white\",\"gridwidth\":2,\"linecolor\":\"white\",\"showbackground\":true,\"ticks\":\"\",\"zerolinecolor\":\"white\"},\"zaxis\":{\"backgroundcolor\":\"#E5ECF6\",\"gridcolor\":\"white\",\"gridwidth\":2,\"linecolor\":\"white\",\"showbackground\":true,\"ticks\":\"\",\"zerolinecolor\":\"white\"}},\"shapedefaults\":{\"line\":{\"color\":\"#2a3f5f\"}},\"ternary\":{\"aaxis\":{\"gridcolor\":\"white\",\"linecolor\":\"white\",\"ticks\":\"\"},\"baxis\":{\"gridcolor\":\"white\",\"linecolor\":\"white\",\"ticks\":\"\"},\"bgcolor\":\"#E5ECF6\",\"caxis\":{\"gridcolor\":\"white\",\"linecolor\":\"white\",\"ticks\":\"\"}},\"title\":{\"x\":0.05},\"xaxis\":{\"automargin\":true,\"gridcolor\":\"white\",\"linecolor\":\"white\",\"ticks\":\"\",\"title\":{\"standoff\":15},\"zerolinecolor\":\"white\",\"zerolinewidth\":2},\"yaxis\":{\"automargin\":true,\"gridcolor\":\"white\",\"linecolor\":\"white\",\"ticks\":\"\",\"title\":{\"standoff\":15},\"zerolinecolor\":\"white\",\"zerolinewidth\":2}}},\"legend\":{\"tracegroupgap\":0},\"title\":{\"text\":\"Distribution of Product_IDs Across Categories\"},\"piecolorway\":[\"rgb(103,0,31)\",\"rgb(178,24,43)\",\"rgb(214,96,77)\",\"rgb(244,165,130)\",\"rgb(253,219,199)\",\"rgb(247,247,247)\",\"rgb(209,229,240)\",\"rgb(146,197,222)\",\"rgb(67,147,195)\",\"rgb(33,102,172)\",\"rgb(5,48,97)\"],\"height\":450,\"width\":750},                        {\"responsive\": true}                    ).then(function(){\n",
              "                            \n",
              "var gd = document.getElementById('baa8b709-aaea-449c-aacd-af5902882289');\n",
              "var x = new MutationObserver(function (mutations, observer) {{\n",
              "        var display = window.getComputedStyle(gd).display;\n",
              "        if (!display || display === 'none') {{\n",
              "            console.log([gd, 'removed!']);\n",
              "            Plotly.purge(gd);\n",
              "            observer.disconnect();\n",
              "        }}\n",
              "}});\n",
              "\n",
              "// Listen for the removal of the full notebook cells\n",
              "var notebookContainer = gd.closest('#notebook-container');\n",
              "if (notebookContainer) {{\n",
              "    x.observe(notebookContainer, {childList: true});\n",
              "}}\n",
              "\n",
              "// Listen for the clearing of the current output cell\n",
              "var outputEl = gd.closest('.output');\n",
              "if (outputEl) {{\n",
              "    x.observe(outputEl, {childList: true});\n",
              "}}\n",
              "\n",
              "                        })                };                            </script>        </div>\n",
              "</body>\n",
              "</html>"
            ]
          },
          "metadata": {}
        }
      ]
    },
    {
      "cell_type": "markdown",
      "source": [
        "Thực phẩm là mặt hàng bán chạy nhất, tiếp theo là đồ gia dụng và sau đó là đồ sở thích."
      ],
      "metadata": {
        "id": "MGrkXYkV3Vj_"
      }
    },
    {
      "cell_type": "code",
      "source": [
        "df = train_sales_df.groupby(['state_id'])['total_sales_all_days'].sum().reset_index()\n",
        "fig = px.pie(df, values='total_sales_all_days', names='state_id', \n",
        "            color_discrete_sequence=px.colors.sequential.Aggrnyl,\n",
        "            width = 750, height=450, title = 'Distribution of Total_Sales Across States')\n",
        "fig.show()"
      ],
      "metadata": {
        "id": "0PQevvAE4cpJ",
        "outputId": "bd521b0f-ca8a-4423-fdde-49561431f358",
        "colab": {
          "base_uri": "https://localhost:8080/",
          "height": 467
        }
      },
      "execution_count": 41,
      "outputs": [
        {
          "output_type": "display_data",
          "data": {
            "text/html": [
              "<html>\n",
              "<head><meta charset=\"utf-8\" /></head>\n",
              "<body>\n",
              "    <div>            <script src=\"https://cdnjs.cloudflare.com/ajax/libs/mathjax/2.7.5/MathJax.js?config=TeX-AMS-MML_SVG\"></script><script type=\"text/javascript\">if (window.MathJax) {MathJax.Hub.Config({SVG: {font: \"STIX-Web\"}});}</script>                <script type=\"text/javascript\">window.PlotlyConfig = {MathJaxConfig: 'local'};</script>\n",
              "        <script src=\"https://cdn.plot.ly/plotly-2.8.3.min.js\"></script>                <div id=\"f6ad2eaa-d170-4241-9734-8207f7b8bef0\" class=\"plotly-graph-div\" style=\"height:450px; width:750px;\"></div>            <script type=\"text/javascript\">                                    window.PLOTLYENV=window.PLOTLYENV || {};                                    if (document.getElementById(\"f6ad2eaa-d170-4241-9734-8207f7b8bef0\")) {                    Plotly.newPlot(                        \"f6ad2eaa-d170-4241-9734-8207f7b8bef0\",                        [{\"domain\":{\"x\":[0.0,1.0],\"y\":[0.0,1.0]},\"hovertemplate\":\"state_id=%{label}<br>total_sales_all_days=%{value}<extra></extra>\",\"labels\":[\"CA\",\"TX\",\"WI\"],\"legendgroup\":\"\",\"name\":\"\",\"showlegend\":true,\"values\":[28675547,18899006,18120856],\"type\":\"pie\"}],                        {\"template\":{\"data\":{\"bar\":[{\"error_x\":{\"color\":\"#2a3f5f\"},\"error_y\":{\"color\":\"#2a3f5f\"},\"marker\":{\"line\":{\"color\":\"#E5ECF6\",\"width\":0.5},\"pattern\":{\"fillmode\":\"overlay\",\"size\":10,\"solidity\":0.2}},\"type\":\"bar\"}],\"barpolar\":[{\"marker\":{\"line\":{\"color\":\"#E5ECF6\",\"width\":0.5},\"pattern\":{\"fillmode\":\"overlay\",\"size\":10,\"solidity\":0.2}},\"type\":\"barpolar\"}],\"carpet\":[{\"aaxis\":{\"endlinecolor\":\"#2a3f5f\",\"gridcolor\":\"white\",\"linecolor\":\"white\",\"minorgridcolor\":\"white\",\"startlinecolor\":\"#2a3f5f\"},\"baxis\":{\"endlinecolor\":\"#2a3f5f\",\"gridcolor\":\"white\",\"linecolor\":\"white\",\"minorgridcolor\":\"white\",\"startlinecolor\":\"#2a3f5f\"},\"type\":\"carpet\"}],\"choropleth\":[{\"colorbar\":{\"outlinewidth\":0,\"ticks\":\"\"},\"type\":\"choropleth\"}],\"contour\":[{\"colorbar\":{\"outlinewidth\":0,\"ticks\":\"\"},\"colorscale\":[[0.0,\"#0d0887\"],[0.1111111111111111,\"#46039f\"],[0.2222222222222222,\"#7201a8\"],[0.3333333333333333,\"#9c179e\"],[0.4444444444444444,\"#bd3786\"],[0.5555555555555556,\"#d8576b\"],[0.6666666666666666,\"#ed7953\"],[0.7777777777777778,\"#fb9f3a\"],[0.8888888888888888,\"#fdca26\"],[1.0,\"#f0f921\"]],\"type\":\"contour\"}],\"contourcarpet\":[{\"colorbar\":{\"outlinewidth\":0,\"ticks\":\"\"},\"type\":\"contourcarpet\"}],\"heatmap\":[{\"colorbar\":{\"outlinewidth\":0,\"ticks\":\"\"},\"colorscale\":[[0.0,\"#0d0887\"],[0.1111111111111111,\"#46039f\"],[0.2222222222222222,\"#7201a8\"],[0.3333333333333333,\"#9c179e\"],[0.4444444444444444,\"#bd3786\"],[0.5555555555555556,\"#d8576b\"],[0.6666666666666666,\"#ed7953\"],[0.7777777777777778,\"#fb9f3a\"],[0.8888888888888888,\"#fdca26\"],[1.0,\"#f0f921\"]],\"type\":\"heatmap\"}],\"heatmapgl\":[{\"colorbar\":{\"outlinewidth\":0,\"ticks\":\"\"},\"colorscale\":[[0.0,\"#0d0887\"],[0.1111111111111111,\"#46039f\"],[0.2222222222222222,\"#7201a8\"],[0.3333333333333333,\"#9c179e\"],[0.4444444444444444,\"#bd3786\"],[0.5555555555555556,\"#d8576b\"],[0.6666666666666666,\"#ed7953\"],[0.7777777777777778,\"#fb9f3a\"],[0.8888888888888888,\"#fdca26\"],[1.0,\"#f0f921\"]],\"type\":\"heatmapgl\"}],\"histogram\":[{\"marker\":{\"pattern\":{\"fillmode\":\"overlay\",\"size\":10,\"solidity\":0.2}},\"type\":\"histogram\"}],\"histogram2d\":[{\"colorbar\":{\"outlinewidth\":0,\"ticks\":\"\"},\"colorscale\":[[0.0,\"#0d0887\"],[0.1111111111111111,\"#46039f\"],[0.2222222222222222,\"#7201a8\"],[0.3333333333333333,\"#9c179e\"],[0.4444444444444444,\"#bd3786\"],[0.5555555555555556,\"#d8576b\"],[0.6666666666666666,\"#ed7953\"],[0.7777777777777778,\"#fb9f3a\"],[0.8888888888888888,\"#fdca26\"],[1.0,\"#f0f921\"]],\"type\":\"histogram2d\"}],\"histogram2dcontour\":[{\"colorbar\":{\"outlinewidth\":0,\"ticks\":\"\"},\"colorscale\":[[0.0,\"#0d0887\"],[0.1111111111111111,\"#46039f\"],[0.2222222222222222,\"#7201a8\"],[0.3333333333333333,\"#9c179e\"],[0.4444444444444444,\"#bd3786\"],[0.5555555555555556,\"#d8576b\"],[0.6666666666666666,\"#ed7953\"],[0.7777777777777778,\"#fb9f3a\"],[0.8888888888888888,\"#fdca26\"],[1.0,\"#f0f921\"]],\"type\":\"histogram2dcontour\"}],\"mesh3d\":[{\"colorbar\":{\"outlinewidth\":0,\"ticks\":\"\"},\"type\":\"mesh3d\"}],\"parcoords\":[{\"line\":{\"colorbar\":{\"outlinewidth\":0,\"ticks\":\"\"}},\"type\":\"parcoords\"}],\"pie\":[{\"automargin\":true,\"type\":\"pie\"}],\"scatter\":[{\"marker\":{\"colorbar\":{\"outlinewidth\":0,\"ticks\":\"\"}},\"type\":\"scatter\"}],\"scatter3d\":[{\"line\":{\"colorbar\":{\"outlinewidth\":0,\"ticks\":\"\"}},\"marker\":{\"colorbar\":{\"outlinewidth\":0,\"ticks\":\"\"}},\"type\":\"scatter3d\"}],\"scattercarpet\":[{\"marker\":{\"colorbar\":{\"outlinewidth\":0,\"ticks\":\"\"}},\"type\":\"scattercarpet\"}],\"scattergeo\":[{\"marker\":{\"colorbar\":{\"outlinewidth\":0,\"ticks\":\"\"}},\"type\":\"scattergeo\"}],\"scattergl\":[{\"marker\":{\"colorbar\":{\"outlinewidth\":0,\"ticks\":\"\"}},\"type\":\"scattergl\"}],\"scattermapbox\":[{\"marker\":{\"colorbar\":{\"outlinewidth\":0,\"ticks\":\"\"}},\"type\":\"scattermapbox\"}],\"scatterpolar\":[{\"marker\":{\"colorbar\":{\"outlinewidth\":0,\"ticks\":\"\"}},\"type\":\"scatterpolar\"}],\"scatterpolargl\":[{\"marker\":{\"colorbar\":{\"outlinewidth\":0,\"ticks\":\"\"}},\"type\":\"scatterpolargl\"}],\"scatterternary\":[{\"marker\":{\"colorbar\":{\"outlinewidth\":0,\"ticks\":\"\"}},\"type\":\"scatterternary\"}],\"surface\":[{\"colorbar\":{\"outlinewidth\":0,\"ticks\":\"\"},\"colorscale\":[[0.0,\"#0d0887\"],[0.1111111111111111,\"#46039f\"],[0.2222222222222222,\"#7201a8\"],[0.3333333333333333,\"#9c179e\"],[0.4444444444444444,\"#bd3786\"],[0.5555555555555556,\"#d8576b\"],[0.6666666666666666,\"#ed7953\"],[0.7777777777777778,\"#fb9f3a\"],[0.8888888888888888,\"#fdca26\"],[1.0,\"#f0f921\"]],\"type\":\"surface\"}],\"table\":[{\"cells\":{\"fill\":{\"color\":\"#EBF0F8\"},\"line\":{\"color\":\"white\"}},\"header\":{\"fill\":{\"color\":\"#C8D4E3\"},\"line\":{\"color\":\"white\"}},\"type\":\"table\"}]},\"layout\":{\"annotationdefaults\":{\"arrowcolor\":\"#2a3f5f\",\"arrowhead\":0,\"arrowwidth\":1},\"autotypenumbers\":\"strict\",\"coloraxis\":{\"colorbar\":{\"outlinewidth\":0,\"ticks\":\"\"}},\"colorscale\":{\"diverging\":[[0,\"#8e0152\"],[0.1,\"#c51b7d\"],[0.2,\"#de77ae\"],[0.3,\"#f1b6da\"],[0.4,\"#fde0ef\"],[0.5,\"#f7f7f7\"],[0.6,\"#e6f5d0\"],[0.7,\"#b8e186\"],[0.8,\"#7fbc41\"],[0.9,\"#4d9221\"],[1,\"#276419\"]],\"sequential\":[[0.0,\"#0d0887\"],[0.1111111111111111,\"#46039f\"],[0.2222222222222222,\"#7201a8\"],[0.3333333333333333,\"#9c179e\"],[0.4444444444444444,\"#bd3786\"],[0.5555555555555556,\"#d8576b\"],[0.6666666666666666,\"#ed7953\"],[0.7777777777777778,\"#fb9f3a\"],[0.8888888888888888,\"#fdca26\"],[1.0,\"#f0f921\"]],\"sequentialminus\":[[0.0,\"#0d0887\"],[0.1111111111111111,\"#46039f\"],[0.2222222222222222,\"#7201a8\"],[0.3333333333333333,\"#9c179e\"],[0.4444444444444444,\"#bd3786\"],[0.5555555555555556,\"#d8576b\"],[0.6666666666666666,\"#ed7953\"],[0.7777777777777778,\"#fb9f3a\"],[0.8888888888888888,\"#fdca26\"],[1.0,\"#f0f921\"]]},\"colorway\":[\"#636efa\",\"#EF553B\",\"#00cc96\",\"#ab63fa\",\"#FFA15A\",\"#19d3f3\",\"#FF6692\",\"#B6E880\",\"#FF97FF\",\"#FECB52\"],\"font\":{\"color\":\"#2a3f5f\"},\"geo\":{\"bgcolor\":\"white\",\"lakecolor\":\"white\",\"landcolor\":\"#E5ECF6\",\"showlakes\":true,\"showland\":true,\"subunitcolor\":\"white\"},\"hoverlabel\":{\"align\":\"left\"},\"hovermode\":\"closest\",\"mapbox\":{\"style\":\"light\"},\"paper_bgcolor\":\"white\",\"plot_bgcolor\":\"#E5ECF6\",\"polar\":{\"angularaxis\":{\"gridcolor\":\"white\",\"linecolor\":\"white\",\"ticks\":\"\"},\"bgcolor\":\"#E5ECF6\",\"radialaxis\":{\"gridcolor\":\"white\",\"linecolor\":\"white\",\"ticks\":\"\"}},\"scene\":{\"xaxis\":{\"backgroundcolor\":\"#E5ECF6\",\"gridcolor\":\"white\",\"gridwidth\":2,\"linecolor\":\"white\",\"showbackground\":true,\"ticks\":\"\",\"zerolinecolor\":\"white\"},\"yaxis\":{\"backgroundcolor\":\"#E5ECF6\",\"gridcolor\":\"white\",\"gridwidth\":2,\"linecolor\":\"white\",\"showbackground\":true,\"ticks\":\"\",\"zerolinecolor\":\"white\"},\"zaxis\":{\"backgroundcolor\":\"#E5ECF6\",\"gridcolor\":\"white\",\"gridwidth\":2,\"linecolor\":\"white\",\"showbackground\":true,\"ticks\":\"\",\"zerolinecolor\":\"white\"}},\"shapedefaults\":{\"line\":{\"color\":\"#2a3f5f\"}},\"ternary\":{\"aaxis\":{\"gridcolor\":\"white\",\"linecolor\":\"white\",\"ticks\":\"\"},\"baxis\":{\"gridcolor\":\"white\",\"linecolor\":\"white\",\"ticks\":\"\"},\"bgcolor\":\"#E5ECF6\",\"caxis\":{\"gridcolor\":\"white\",\"linecolor\":\"white\",\"ticks\":\"\"}},\"title\":{\"x\":0.05},\"xaxis\":{\"automargin\":true,\"gridcolor\":\"white\",\"linecolor\":\"white\",\"ticks\":\"\",\"title\":{\"standoff\":15},\"zerolinecolor\":\"white\",\"zerolinewidth\":2},\"yaxis\":{\"automargin\":true,\"gridcolor\":\"white\",\"linecolor\":\"white\",\"ticks\":\"\",\"title\":{\"standoff\":15},\"zerolinecolor\":\"white\",\"zerolinewidth\":2}}},\"legend\":{\"tracegroupgap\":0},\"title\":{\"text\":\"Distribution of Total_Sales Across States\"},\"piecolorway\":[\"rgb(36, 86, 104)\",\"rgb(15, 114, 121)\",\"rgb(13, 143, 129)\",\"rgb(57, 171, 126)\",\"rgb(110, 197, 116)\",\"rgb(169, 220, 103)\",\"rgb(237, 239, 93)\"],\"height\":450,\"width\":750},                        {\"responsive\": true}                    ).then(function(){\n",
              "                            \n",
              "var gd = document.getElementById('f6ad2eaa-d170-4241-9734-8207f7b8bef0');\n",
              "var x = new MutationObserver(function (mutations, observer) {{\n",
              "        var display = window.getComputedStyle(gd).display;\n",
              "        if (!display || display === 'none') {{\n",
              "            console.log([gd, 'removed!']);\n",
              "            Plotly.purge(gd);\n",
              "            observer.disconnect();\n",
              "        }}\n",
              "}});\n",
              "\n",
              "// Listen for the removal of the full notebook cells\n",
              "var notebookContainer = gd.closest('#notebook-container');\n",
              "if (notebookContainer) {{\n",
              "    x.observe(notebookContainer, {childList: true});\n",
              "}}\n",
              "\n",
              "// Listen for the clearing of the current output cell\n",
              "var outputEl = gd.closest('.output');\n",
              "if (outputEl) {{\n",
              "    x.observe(outputEl, {childList: true});\n",
              "}}\n",
              "\n",
              "                        })                };                            </script>        </div>\n",
              "</body>\n",
              "</html>"
            ]
          },
          "metadata": {}
        }
      ]
    },
    {
      "cell_type": "markdown",
      "source": [
        "Tổng số lượng hàng bán ở Bang CA là cao nhất, kế tiếp là Texas và Wisconsin"
      ],
      "metadata": {
        "id": "bDUAwX0b4vb9"
      }
    },
    {
      "cell_type": "code",
      "source": [
        "# Đếm số lượng id theo từng cat_id và lưu vào data frame\n",
        "df1 = train_sales_df.groupby(['cat_id'])['id'].count().reset_index(name='total_entries')\n",
        "# Tính tổng doanh số theo cat_id và state_id, lưu vào data frame\n",
        "df2 = train_sales_df.groupby(['cat_id', 'state_id'])['total_sales_all_days'].sum().reset_index()"
      ],
      "metadata": {
        "id": "FGPetDQk5Qu3"
      },
      "execution_count": 42,
      "outputs": []
    },
    {
      "cell_type": "code",
      "source": [
        "# Dùng module seaborn để vẽ biểu đồ hình cột \n",
        "sns.set_style('whitegrid')\n",
        "sns.axes_style(style='ticks')\n",
        "fig, (ax1, ax2) = plt.subplots(1,2, figsize=(14,5))\n",
        "\n",
        "sns.barplot(x = 'cat_id', y='total_entries', data=df1, \n",
        "            palette='mako', ax=ax1)\n",
        "sns.barplot(x = 'cat_id', y='total_sales_all_days', hue='state_id', data=df2, \n",
        "            palette='magma', ax=ax2)\n",
        "\n",
        "plt.xticks(rotation=90)\n",
        "plt.show()"
      ],
      "metadata": {
        "id": "yJG4EBFK5d97",
        "outputId": "f1a21590-3528-4717-91f2-4990afc36704",
        "colab": {
          "base_uri": "https://localhost:8080/",
          "height": 399
        }
      },
      "execution_count": 43,
      "outputs": [
        {
          "output_type": "display_data",
          "data": {
            "text/plain": [
              "<Figure size 1008x360 with 2 Axes>"
            ],
            "image/png": "[encoded data removed]"
          },
          "metadata": {}
        }
      ]
    }
  ]
}