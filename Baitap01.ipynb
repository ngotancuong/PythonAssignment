{
  "nbformat": 4,
  "nbformat_minor": 0,
  "metadata": {
    "colab": {
      "provenance": [],
      "authorship_tag": "ABX9TyMIQoNMnPuMCJj8T8IzNZ8l",
      "include_colab_link": true
    },
    "kernelspec": {
      "name": "python3",
      "display_name": "Python 3"
    },
    "language_info": {
      "name": "python"
    }
  },
  "cells": [
    {
      "cell_type": "markdown",
      "metadata": {
        "id": "view-in-github",
        "colab_type": "text"
      },
      "source": [
        "<a href=\"https://colab.research.google.com/github/ngotancuong/PythonAssignment/blob/main/Baitap01.ipynb\" target=\"_parent\"><img src=\"https://colab.research.google.com/assets/colab-badge.svg\" alt=\"Open In Colab\"/></a>"
      ]
    },
    {
      "cell_type": "markdown",
      "source": [
        "# BÀI HƯỚNG DẪN TÌM HIỂU VỀ EDA, PHÂN TÍCH DỮ LIỆU CHUỖI THỜI GIAN VÀ CÁC DỰ BÁO DỰA VÀO MÔ HÌNH SARIMAX"
      ],
      "metadata": {
        "id": "AH-dQ9uHN_fM"
      }
    },
    {
      "cell_type": "markdown",
      "source": [
        "Cuộc thi này do Walmart tài trợ có tên là Dự báo M5. Sử dụng dữ liệu bao gồm khoảng 30.000 mặt hàng khác nhau trong gần 1900 ngày. Mục tiêu là dự báo doanh số bán hàng trong 28 ngày tới. Phân bố ở ba Tiểu bang Hoa Kỳ (California, Texas và Wisconsin)."
      ],
      "metadata": {
        "id": "5UZ_5M9cPE3V"
      }
    },
    {
      "cell_type": "markdown",
      "source": [
        "Đầu tiên phải load data mẫu từ Kaggle về project này để chạy"
      ],
      "metadata": {
        "id": "OksR-5YUP9ro"
      }
    },
    {
      "cell_type": "code",
      "execution_count": null,
      "metadata": {
        "id": "hUDc7-ssKJhG"
      },
      "outputs": [],
      "source": [
        "# Cài đặt package Kaggle hỗ trợ kết nối Colab với Kaggle\n",
        "!pip install -q kaggle"
      ]
    },
    {
      "cell_type": "code",
      "source": [
        "# Download file Kaggle API Token cho phép kết nối vào tài nguyên Kaggle\n",
        "!wget 'https://raw.githubusercontent.com/ngotancuong/PythonAssignment/main/kaggle.json'\n",
        "\n",
        "# Cách khác nếu đã download file kaggle.json về máy tính rồi thì dùng lệnh sau để upload thủ công lên Colab\n",
        "# from google.colab import files\n",
        "# files.upload()"
      ],
      "metadata": {
        "id": "KFW7QvBcRvMm"
      },
      "execution_count": null,
      "outputs": []
    },
    {
      "cell_type": "code",
      "source": [
        "# Bắt buộc file kaggle.json phải được đặt tại đường dẫn ~/.kaggle/kaggle.json để dùng API\n"
      ],
      "metadata": {
        "id": "2MQiT9F7eBgT"
      },
      "execution_count": null,
      "outputs": []
    }
  ]
}