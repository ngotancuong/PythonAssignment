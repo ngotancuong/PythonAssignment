{
  "nbformat": 4,
  "nbformat_minor": 0,
  "metadata": {
    "colab": {
      "provenance": [],
      "authorship_tag": "ABX9TyOwcAmIG5o9P7fD91IBGnoK",
      "include_colab_link": true
    },
    "kernelspec": {
      "name": "python3",
      "display_name": "Python 3"
    },
    "language_info": {
      "name": "python"
    }
  },
  "cells": [
    {
      "cell_type": "markdown",
      "metadata": {
        "id": "view-in-github",
        "colab_type": "text"
      },
      "source": [
        "<a href=\"https://colab.research.google.com/github/ngotancuong/PythonAssignment/blob/main/Baitap01.ipynb\" target=\"_parent\"><img src=\"https://colab.research.google.com/assets/colab-badge.svg\" alt=\"Open In Colab\"/></a>"
      ]
    },
    {
      "cell_type": "code",
      "execution_count": 1,
      "metadata": {
        "id": "HIkmZGJQ4soq"
      },
      "outputs": [],
      "source": [
        "!pip install -q kaggle\n"
      ]
    },
    {
      "cell_type": "code",
      "source": [
        "from google.colab import files\n",
        "files.upload()"
      ],
      "metadata": {
        "colab": {
          "base_uri": "https://localhost:8080/",
          "height": 93
        },
        "id": "8-PB33lO4-Xy",
        "outputId": "82d1f18c-2eaa-49c5-bd27-40cd525e4ca6"
      },
      "execution_count": 2,
      "outputs": [
        {
          "output_type": "display_data",
          "data": {
            "text/plain": [
              "<IPython.core.display.HTML object>"
            ],
            "text/html": [
              "\n",
              "     <input type=\"file\" id=\"files-01812740-d553-4aa5-bba2-40323ad2fced\" name=\"files[]\" multiple disabled\n",
              "        style=\"border:none\" />\n",
              "     <output id=\"result-01812740-d553-4aa5-bba2-40323ad2fced\">\n",
              "      Upload widget is only available when the cell has been executed in the\n",
              "      current browser session. Please rerun this cell to enable.\n",
              "      </output>\n",
              "      <script>// Copyright 2017 Google LLC\n",
              "//\n",
              "// Licensed under the Apache License, Version 2.0 (the \"License\");\n",
              "// you may not use this file except in compliance with the License.\n",
              "// You may obtain a copy of the License at\n",
              "//\n",
              "//      http://www.apache.org/licenses/LICENSE-2.0\n",
              "//\n",
              "// Unless required by applicable law or agreed to in writing, software\n",
              "// distributed under the License is distributed on an \"AS IS\" BASIS,\n",
              "// WITHOUT WARRANTIES OR CONDITIONS OF ANY KIND, either express or implied.\n",
              "// See the License for the specific language governing permissions and\n",
              "// limitations under the License.\n",
              "\n",
              "/**\n",
              " * @fileoverview Helpers for google.colab Python module.\n",
              " */\n",
              "(function(scope) {\n",
              "function span(text, styleAttributes = {}) {\n",
              "  const element = document.createElement('span');\n",
              "  element.textContent = text;\n",
              "  for (const key of Object.keys(styleAttributes)) {\n",
              "    element.style[key] = styleAttributes[key];\n",
              "  }\n",
              "  return element;\n",
              "}\n",
              "\n",
              "// Max number of bytes which will be uploaded at a time.\n",
              "const MAX_PAYLOAD_SIZE = 100 * 1024;\n",
              "\n",
              "function _uploadFiles(inputId, outputId) {\n",
              "  const steps = uploadFilesStep(inputId, outputId);\n",
              "  const outputElement = document.getElementById(outputId);\n",
              "  // Cache steps on the outputElement to make it available for the next call\n",
              "  // to uploadFilesContinue from Python.\n",
              "  outputElement.steps = steps;\n",
              "\n",
              "  return _uploadFilesContinue(outputId);\n",
              "}\n",
              "\n",
              "// This is roughly an async generator (not supported in the browser yet),\n",
              "// where there are multiple asynchronous steps and the Python side is going\n",
              "// to poll for completion of each step.\n",
              "// This uses a Promise to block the python side on completion of each step,\n",
              "// then passes the result of the previous step as the input to the next step.\n",
              "function _uploadFilesContinue(outputId) {\n",
              "  const outputElement = document.getElementById(outputId);\n",
              "  const steps = outputElement.steps;\n",
              "\n",
              "  const next = steps.next(outputElement.lastPromiseValue);\n",
              "  return Promise.resolve(next.value.promise).then((value) => {\n",
              "    // Cache the last promise value to make it available to the next\n",
              "    // step of the generator.\n",
              "    outputElement.lastPromiseValue = value;\n",
              "    return next.value.response;\n",
              "  });\n",
              "}\n",
              "\n",
              "/**\n",
              " * Generator function which is called between each async step of the upload\n",
              " * process.\n",
              " * @param {string} inputId Element ID of the input file picker element.\n",
              " * @param {string} outputId Element ID of the output display.\n",
              " * @return {!Iterable<!Object>} Iterable of next steps.\n",
              " */\n",
              "function* uploadFilesStep(inputId, outputId) {\n",
              "  const inputElement = document.getElementById(inputId);\n",
              "  inputElement.disabled = false;\n",
              "\n",
              "  const outputElement = document.getElementById(outputId);\n",
              "  outputElement.innerHTML = '';\n",
              "\n",
              "  const pickedPromise = new Promise((resolve) => {\n",
              "    inputElement.addEventListener('change', (e) => {\n",
              "      resolve(e.target.files);\n",
              "    });\n",
              "  });\n",
              "\n",
              "  const cancel = document.createElement('button');\n",
              "  inputElement.parentElement.appendChild(cancel);\n",
              "  cancel.textContent = 'Cancel upload';\n",
              "  const cancelPromise = new Promise((resolve) => {\n",
              "    cancel.onclick = () => {\n",
              "      resolve(null);\n",
              "    };\n",
              "  });\n",
              "\n",
              "  // Wait for the user to pick the files.\n",
              "  const files = yield {\n",
              "    promise: Promise.race([pickedPromise, cancelPromise]),\n",
              "    response: {\n",
              "      action: 'starting',\n",
              "    }\n",
              "  };\n",
              "\n",
              "  cancel.remove();\n",
              "\n",
              "  // Disable the input element since further picks are not allowed.\n",
              "  inputElement.disabled = true;\n",
              "\n",
              "  if (!files) {\n",
              "    return {\n",
              "      response: {\n",
              "        action: 'complete',\n",
              "      }\n",
              "    };\n",
              "  }\n",
              "\n",
              "  for (const file of files) {\n",
              "    const li = document.createElement('li');\n",
              "    li.append(span(file.name, {fontWeight: 'bold'}));\n",
              "    li.append(span(\n",
              "        `(${file.type || 'n/a'}) - ${file.size} bytes, ` +\n",
              "        `last modified: ${\n",
              "            file.lastModifiedDate ? file.lastModifiedDate.toLocaleDateString() :\n",
              "                                    'n/a'} - `));\n",
              "    const percent = span('0% done');\n",
              "    li.appendChild(percent);\n",
              "\n",
              "    outputElement.appendChild(li);\n",
              "\n",
              "    const fileDataPromise = new Promise((resolve) => {\n",
              "      const reader = new FileReader();\n",
              "      reader.onload = (e) => {\n",
              "        resolve(e.target.result);\n",
              "      };\n",
              "      reader.readAsArrayBuffer(file);\n",
              "    });\n",
              "    // Wait for the data to be ready.\n",
              "    let fileData = yield {\n",
              "      promise: fileDataPromise,\n",
              "      response: {\n",
              "        action: 'continue',\n",
              "      }\n",
              "    };\n",
              "\n",
              "    // Use a chunked sending to avoid message size limits. See b/62115660.\n",
              "    let position = 0;\n",
              "    do {\n",
              "      const length = Math.min(fileData.byteLength - position, MAX_PAYLOAD_SIZE);\n",
              "      const chunk = new Uint8Array(fileData, position, length);\n",
              "      position += length;\n",
              "\n",
              "      const base64 = btoa(String.fromCharCode.apply(null, chunk));\n",
              "      yield {\n",
              "        response: {\n",
              "          action: 'append',\n",
              "          file: file.name,\n",
              "          data: base64,\n",
              "        },\n",
              "      };\n",
              "\n",
              "      let percentDone = fileData.byteLength === 0 ?\n",
              "          100 :\n",
              "          Math.round((position / fileData.byteLength) * 100);\n",
              "      percent.textContent = `${percentDone}% done`;\n",
              "\n",
              "    } while (position < fileData.byteLength);\n",
              "  }\n",
              "\n",
              "  // All done.\n",
              "  yield {\n",
              "    response: {\n",
              "      action: 'complete',\n",
              "    }\n",
              "  };\n",
              "}\n",
              "\n",
              "scope.google = scope.google || {};\n",
              "scope.google.colab = scope.google.colab || {};\n",
              "scope.google.colab._files = {\n",
              "  _uploadFiles,\n",
              "  _uploadFilesContinue,\n",
              "};\n",
              "})(self);\n",
              "</script> "
            ]
          },
          "metadata": {}
        },
        {
          "output_type": "stream",
          "name": "stdout",
          "text": [
            "Saving kaggle.json to kaggle.json\n"
          ]
        },
        {
          "output_type": "execute_result",
          "data": {
            "text/plain": [
              "{'kaggle.json': b'{\"username\":\"ngtncng\",\"key\":\"8fbb08ab7541c85d81961228e57f5ee6\"}'}"
            ]
          },
          "metadata": {},
          "execution_count": 2
        }
      ]
    },
    {
      "cell_type": "code",
      "source": [
        "! mkdir ~/.kaggle\n"
      ],
      "metadata": {
        "id": "seawSTxp5RdF"
      },
      "execution_count": 3,
      "outputs": []
    },
    {
      "cell_type": "code",
      "source": [
        "! cp kaggle.json ~/.kaggle/"
      ],
      "metadata": {
        "id": "0gC_Oi7E5W8-"
      },
      "execution_count": 4,
      "outputs": []
    },
    {
      "cell_type": "code",
      "source": [
        "! chmod 600 ~/.kaggle/kaggle.json"
      ],
      "metadata": {
        "id": "zaUW4pTJ5hrQ"
      },
      "execution_count": 5,
      "outputs": []
    },
    {
      "cell_type": "code",
      "source": [
        "! kaggle datasets list"
      ],
      "metadata": {
        "colab": {
          "base_uri": "https://localhost:8080/"
        },
        "id": "3ZOsppFS5tOn",
        "outputId": "59a5bda3-e2c5-45c1-9951-d32c7cfc73c3"
      },
      "execution_count": 7,
      "outputs": [
        {
          "output_type": "stream",
          "name": "stdout",
          "text": [
            "ref                                                             title                                                size  lastUpdated          downloadCount  voteCount  usabilityRating  \n",
            "--------------------------------------------------------------  --------------------------------------------------  -----  -------------------  -------------  ---------  ---------------  \n",
            "akshaydattatraykhare/diabetes-dataset                           Diabetes Dataset                                      9KB  2022-10-06 08:55:25           4049        127  1.0              \n",
            "whenamancodes/covid-19-coronavirus-pandemic-dataset             COVID -19 Coronavirus Pandemic Dataset               11KB  2022-09-30 04:05:11           3352         98  1.0              \n",
            "thedevastator/fast-food-restaurants-in-the-united-states        Fast Food Restaurants in the United States            4MB  2022-10-08 17:30:38           1150         31  1.0              \n",
            "whenamancodes/students-performance-in-exams                     Students Performance in Exams                         9KB  2022-09-14 15:14:54           6557        114  1.0              \n",
            "whenamancodes/student-performance                               Student Performance                                 104KB  2022-10-07 05:14:47           5289        127  1.0              \n",
            "anushabellam/cars-cars-2                                        Cars_India_dataset                                    4KB  2022-10-12 06:34:20            687         26  1.0              \n",
            "iamsouravbanerjee/computer-games-dataset                        Computer Games Dataset                               29KB  2022-10-11 14:36:33            476         40  1.0              \n",
            "kathir1k/youtube-influencers-data                               Youtube Channel and Influencer Analysis             196KB  2022-10-13 16:30:21            553         26  0.85294116       \n",
            "whenamancodes/flight-delay-prediction                           Flight Delay Prediction                              31MB  2022-10-07 05:26:20           1216         34  0.88235295       \n",
            "narayan63/netflix-popular-movies-dataset                        Netflix popular movies dataset                        1MB  2022-09-24 08:23:22           3345         55  0.9411765        \n",
            "evangower/premier-league-matches-19922022                       Premier League Matches 1992-2022                     78KB  2022-10-03 02:18:33           1247         45  1.0              \n",
            "whenamancodes/alcohol-effects-on-study                          Alcohol Effects On Study                             18KB  2022-09-15 03:21:04           4265         86  1.0              \n",
            "kathuman/housing                                                Housing                                             400KB  2022-09-29 10:21:23            776         26  1.0              \n",
            "whenamancodes/the-global-hunger-index                           The Global Hunger Index                              27KB  2022-09-13 18:18:01           1277         40  1.0              \n",
            "eliasturk/world-happiness-based-on-cpi-20152020                 Happiness and Corruption 2015-2020                   29KB  2022-10-11 22:35:03            738         31  1.0              \n",
            "jfreyberg/spotify-artist-feature-collaboration-network          Spotify Artist Feature Collaboration Network         15MB  2022-10-10 14:11:34            406         24  0.9117647        \n",
            "pantanjali/unemployment-dataset                                 Unemployment dataset                                 17KB  2022-09-08 08:26:10           6406        141  1.0              \n",
            "adnananam/spotify-artist-stats                                  Spotify Artist Stats                                 28KB  2022-09-22 03:22:44           1486         37  1.0              \n",
            "thedevastator/fuel-economy-data-how-efficient-are-today-s-cars  Fuel Economy Data: How Efficient Are Today's Cars?    1MB  2022-10-09 16:47:41            843         29  0.9411765        \n",
            "thedevastator/a-complete-history-of-nobel-prize-winners         Nobel Prize Winners                                   1MB  2022-10-08 00:09:57            781         29  1.0              \n"
          ]
        }
      ]
    },
    {
      "cell_type": "code",
      "source": [
        "! kaggle competitions download -c m5-forecasting-accuracy"
      ],
      "metadata": {
        "colab": {
          "base_uri": "https://localhost:8080/"
        },
        "id": "P9-pyWM87BtL",
        "outputId": "faf856d0-845a-4015-a706-45cff7e00f34"
      },
      "execution_count": 8,
      "outputs": [
        {
          "output_type": "stream",
          "name": "stdout",
          "text": [
            "Downloading m5-forecasting-accuracy.zip to /content\n",
            " 74% 34.0M/45.8M [00:00<00:00, 72.7MB/s]\n",
            "100% 45.8M/45.8M [00:00<00:00, 90.8MB/s]\n"
          ]
        }
      ]
    },
    {
      "cell_type": "code",
      "source": [
        "! unzip  m5-forecasting-accuracy.zip -d \"/content/input/m5-forecasting-accuracy\"\n"
      ],
      "metadata": {
        "colab": {
          "base_uri": "https://localhost:8080/"
        },
        "id": "DDjg8V_e7xYp",
        "outputId": "cd922462-6bde-467a-aea7-53513934d44b"
      },
      "execution_count": 15,
      "outputs": [
        {
          "output_type": "stream",
          "name": "stdout",
          "text": [
            "Archive:  m5-forecasting-accuracy.zip\n",
            "  inflating: /content/input/m5-forecasting-accuracy/calendar.csv  \n",
            "  inflating: /content/input/m5-forecasting-accuracy/sales_train_evaluation.csv  \n",
            "  inflating: /content/input/m5-forecasting-accuracy/sales_train_validation.csv  \n",
            "  inflating: /content/input/m5-forecasting-accuracy/sample_submission.csv  \n",
            "  inflating: /content/input/m5-forecasting-accuracy/sell_prices.csv  \n"
          ]
        }
      ]
    },
    {
      "cell_type": "code",
      "source": [
        "# This Python 3 environment comes with many helpful analytics libraries installed\n",
        "# It is defined by the kaggle/python docker image: https://github.com/kaggle/docker-python\n",
        "# For example, here's several helpful packages to load in \n",
        "\n",
        "import numpy as np # linear algebra\n",
        "import pandas as pd # data processing, CSV file I/O (e.g. pd.read_csv)\n",
        "import matplotlib.pyplot as plt\n",
        "\n",
        "import time\n",
        "import math\n",
        "import datetime\n",
        "\n",
        "\n",
        "# Import widgets\n",
        "from ipywidgets import widgets, interactive, interact\n",
        "import ipywidgets as widgets\n",
        "from IPython.display import display\n",
        "\n",
        "from math import log, floor\n",
        "from sklearn.neighbors import KDTree\n",
        "\n",
        "import seaborn as sns\n",
        "sns.set_style('whitegrid')\n",
        "\n",
        "import plotly.express as px\n",
        "import plotly.graph_objects as go\n",
        "import plotly.figure_factory as ff\n",
        "from plotly.subplots import make_subplots\n",
        "\n",
        "import pywt\n",
        "from statsmodels.robust import mad\n",
        "\n",
        "import scipy\n",
        "import statsmodels\n",
        "from scipy import signal\n",
        "\n",
        "from statsmodels.tsa.arima_model import ARIMA\n",
        "from statsmodels.tsa.statespace.sarimax import SARIMAX\n",
        "from statsmodels.tsa.api import ExponentialSmoothing, SimpleExpSmoothing, Holt\n",
        "from statsmodels.tsa.stattools import adfuller\n",
        "\n",
        "import itertools\n",
        "from itertools import cycle\n",
        "plt.style.use('seaborn')\n",
        "color_cycle = cycle(plt.rcParams['axes.prop_cycle'].by_key()['color'])\n",
        "\n",
        "# Input data files are available in the \"../input/\" directory.\n",
        "# For example, running this (by clicking run or pressing Shift+Enter) will list all files under the input directory\n",
        "\n",
        "import os\n",
        "for dirname, _, filenames in os.walk('/content/input'):\n",
        "    for filename in filenames:\n",
        "        print(os.path.join(dirname, filename))\n",
        "\n",
        "# Any results you write to the current directory are saved as output."
      ],
      "metadata": {
        "colab": {
          "base_uri": "https://localhost:8080/"
        },
        "id": "Iv-111a88TA8",
        "outputId": "4bad2fa3-f480-45c3-cfe8-5927085cbe19"
      },
      "execution_count": 16,
      "outputs": [
        {
          "output_type": "stream",
          "name": "stdout",
          "text": [
            "/content/input/m5-forecasting-accuracy/sales_train_evaluation.csv\n",
            "/content/input/m5-forecasting-accuracy/sales_train_validation.csv\n",
            "/content/input/m5-forecasting-accuracy/calendar.csv\n",
            "/content/input/m5-forecasting-accuracy/sell_prices.csv\n",
            "/content/input/m5-forecasting-accuracy/sample_submission.csv\n"
          ]
        }
      ]
    },
    {
      "cell_type": "code",
      "source": [
        "sell_prices_df = pd.read_csv('/content/input/m5-forecasting-accuracy/sell_prices.csv')\n",
        "train_sales_df = pd.read_csv('/content/input/m5-forecasting-accuracy/sales_train_validation.csv')\n",
        "calendar_df = pd.read_csv('/content/input/m5-forecasting-accuracy/calendar.csv')\n",
        "submission_file = pd.read_csv('/content/input/m5-forecasting-accuracy/sample_submission.csv')"
      ],
      "metadata": {
        "id": "LKPTcYZ8-v4V"
      },
      "execution_count": 17,
      "outputs": []
    },
    {
      "cell_type": "code",
      "source": [
        "sell_prices_df.info()"
      ],
      "metadata": {
        "colab": {
          "base_uri": "https://localhost:8080/"
        },
        "id": "kHKAdf4e-57M",
        "outputId": "1a452080-dea4-4bd3-d0ce-9c83db830f9d"
      },
      "execution_count": 18,
      "outputs": [
        {
          "output_type": "stream",
          "name": "stdout",
          "text": [
            "<class 'pandas.core.frame.DataFrame'>\n",
            "RangeIndex: 6841121 entries, 0 to 6841120\n",
            "Data columns (total 4 columns):\n",
            " #   Column      Dtype  \n",
            "---  ------      -----  \n",
            " 0   store_id    object \n",
            " 1   item_id     object \n",
            " 2   wm_yr_wk    int64  \n",
            " 3   sell_price  float64\n",
            "dtypes: float64(1), int64(1), object(2)\n",
            "memory usage: 208.8+ MB\n"
          ]
        }
      ]
    }
  ]
}